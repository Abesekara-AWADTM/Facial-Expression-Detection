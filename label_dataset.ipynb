{
 "cells": [
  {
   "cell_type": "code",
   "execution_count": 1,
   "metadata": {},
   "outputs": [],
   "source": [
    "import pandas as pd\n",
    "import numpy as np"
   ]
  },
  {
   "cell_type": "code",
   "execution_count": 2,
   "metadata": {},
   "outputs": [
    {
     "data": {
      "text/html": [
       "<div>\n",
       "<style scoped>\n",
       "    .dataframe tbody tr th:only-of-type {\n",
       "        vertical-align: middle;\n",
       "    }\n",
       "\n",
       "    .dataframe tbody tr th {\n",
       "        vertical-align: top;\n",
       "    }\n",
       "\n",
       "    .dataframe thead th {\n",
       "        text-align: right;\n",
       "    }\n",
       "</style>\n",
       "<table border=\"1\" class=\"dataframe\">\n",
       "  <thead>\n",
       "    <tr style=\"text-align: right;\">\n",
       "      <th></th>\n",
       "      <th>Timestamp</th>\n",
       "      <th>Name</th>\n",
       "      <th>Give some percentage(%) about your engagement level?\\nExample : 80%</th>\n",
       "    </tr>\n",
       "  </thead>\n",
       "  <tbody>\n",
       "    <tr>\n",
       "      <th>0</th>\n",
       "      <td>22/12/2022 16:46:16</td>\n",
       "      <td>W.A.Dulmi Niwanka</td>\n",
       "      <td>20%</td>\n",
       "    </tr>\n",
       "    <tr>\n",
       "      <th>1</th>\n",
       "      <td>22/12/2022 17:41:30</td>\n",
       "      <td>Herath H.R.P.C.</td>\n",
       "      <td>10%</td>\n",
       "    </tr>\n",
       "    <tr>\n",
       "      <th>2</th>\n",
       "      <td>22/12/2022 18:28:47</td>\n",
       "      <td>Gunarathna P.R.B.M</td>\n",
       "      <td>20%</td>\n",
       "    </tr>\n",
       "    <tr>\n",
       "      <th>3</th>\n",
       "      <td>22/12/2022 23:16:19</td>\n",
       "      <td>Dinusha</td>\n",
       "      <td>90%</td>\n",
       "    </tr>\n",
       "    <tr>\n",
       "      <th>4</th>\n",
       "      <td>22/12/2022 23:38:22</td>\n",
       "      <td>shanika</td>\n",
       "      <td>30%</td>\n",
       "    </tr>\n",
       "  </tbody>\n",
       "</table>\n",
       "</div>"
      ],
      "text/plain": [
       "             Timestamp                Name  \\\n",
       "0  22/12/2022 16:46:16   W.A.Dulmi Niwanka   \n",
       "1  22/12/2022 17:41:30     Herath H.R.P.C.   \n",
       "2  22/12/2022 18:28:47  Gunarathna P.R.B.M   \n",
       "3  22/12/2022 23:16:19             Dinusha   \n",
       "4  22/12/2022 23:38:22             shanika   \n",
       "\n",
       "  Give some percentage(%) about your engagement level?\\nExample : 80%  \n",
       "0                                                20%                   \n",
       "1                                                10%                   \n",
       "2                                                20%                   \n",
       "3                                                90%                   \n",
       "4                                                30%                   "
      ]
     },
     "execution_count": 2,
     "metadata": {},
     "output_type": "execute_result"
    }
   ],
   "source": [
    "# Read in the data\n",
    "df = pd.read_csv('data/student_engagement_dataset.csv')\n",
    "df.head()"
   ]
  },
  {
   "cell_type": "code",
   "execution_count": 6,
   "metadata": {},
   "outputs": [
    {
     "data": {
      "text/html": [
       "<div>\n",
       "<style scoped>\n",
       "    .dataframe tbody tr th:only-of-type {\n",
       "        vertical-align: middle;\n",
       "    }\n",
       "\n",
       "    .dataframe tbody tr th {\n",
       "        vertical-align: top;\n",
       "    }\n",
       "\n",
       "    .dataframe thead th {\n",
       "        text-align: right;\n",
       "    }\n",
       "</style>\n",
       "<table border=\"1\" class=\"dataframe\">\n",
       "  <thead>\n",
       "    <tr style=\"text-align: right;\">\n",
       "      <th></th>\n",
       "      <th>time</th>\n",
       "      <th>name</th>\n",
       "      <th>engagement_level</th>\n",
       "    </tr>\n",
       "  </thead>\n",
       "  <tbody>\n",
       "    <tr>\n",
       "      <th>0</th>\n",
       "      <td>22/12/2022 16:46:16</td>\n",
       "      <td>W.A.Dulmi Niwanka</td>\n",
       "      <td>20%</td>\n",
       "    </tr>\n",
       "    <tr>\n",
       "      <th>1</th>\n",
       "      <td>22/12/2022 17:41:30</td>\n",
       "      <td>Herath H.R.P.C.</td>\n",
       "      <td>10%</td>\n",
       "    </tr>\n",
       "    <tr>\n",
       "      <th>2</th>\n",
       "      <td>22/12/2022 18:28:47</td>\n",
       "      <td>Gunarathna P.R.B.M</td>\n",
       "      <td>20%</td>\n",
       "    </tr>\n",
       "    <tr>\n",
       "      <th>3</th>\n",
       "      <td>22/12/2022 23:16:19</td>\n",
       "      <td>Dinusha</td>\n",
       "      <td>90%</td>\n",
       "    </tr>\n",
       "    <tr>\n",
       "      <th>4</th>\n",
       "      <td>22/12/2022 23:38:22</td>\n",
       "      <td>shanika</td>\n",
       "      <td>30%</td>\n",
       "    </tr>\n",
       "  </tbody>\n",
       "</table>\n",
       "</div>"
      ],
      "text/plain": [
       "                  time                name engagement_level\n",
       "0  22/12/2022 16:46:16   W.A.Dulmi Niwanka              20%\n",
       "1  22/12/2022 17:41:30     Herath H.R.P.C.              10%\n",
       "2  22/12/2022 18:28:47  Gunarathna P.R.B.M              20%\n",
       "3  22/12/2022 23:16:19             Dinusha              90%\n",
       "4  22/12/2022 23:38:22             shanika              30%"
      ]
     },
     "execution_count": 6,
     "metadata": {},
     "output_type": "execute_result"
    }
   ],
   "source": [
    "# Rename the column\n",
    "df.rename(columns={'Timestamp':'time','Name': 'name','Give some percentage(%) about your engagement level?\\nExample : 80%': 'engagement_level'}, inplace=True)\n",
    "df.head()"
   ]
  },
  {
   "cell_type": "code",
   "execution_count": 8,
   "metadata": {},
   "outputs": [
    {
     "data": {
      "text/plain": [
       "time                object\n",
       "name                object\n",
       "engagement_level    object\n",
       "dtype: object"
      ]
     },
     "execution_count": 8,
     "metadata": {},
     "output_type": "execute_result"
    }
   ],
   "source": [
    "df.dtypes"
   ]
  },
  {
   "cell_type": "code",
   "execution_count": 9,
   "metadata": {},
   "outputs": [
    {
     "data": {
      "text/html": [
       "<div>\n",
       "<style scoped>\n",
       "    .dataframe tbody tr th:only-of-type {\n",
       "        vertical-align: middle;\n",
       "    }\n",
       "\n",
       "    .dataframe tbody tr th {\n",
       "        vertical-align: top;\n",
       "    }\n",
       "\n",
       "    .dataframe thead th {\n",
       "        text-align: right;\n",
       "    }\n",
       "</style>\n",
       "<table border=\"1\" class=\"dataframe\">\n",
       "  <thead>\n",
       "    <tr style=\"text-align: right;\">\n",
       "      <th></th>\n",
       "      <th>time</th>\n",
       "      <th>name</th>\n",
       "      <th>engagement_level</th>\n",
       "    </tr>\n",
       "  </thead>\n",
       "  <tbody>\n",
       "    <tr>\n",
       "      <th>0</th>\n",
       "      <td>22/12/2022 16:46:16</td>\n",
       "      <td>W.A.Dulmi Niwanka</td>\n",
       "      <td>20.0</td>\n",
       "    </tr>\n",
       "    <tr>\n",
       "      <th>1</th>\n",
       "      <td>22/12/2022 17:41:30</td>\n",
       "      <td>Herath H.R.P.C.</td>\n",
       "      <td>10.0</td>\n",
       "    </tr>\n",
       "    <tr>\n",
       "      <th>2</th>\n",
       "      <td>22/12/2022 18:28:47</td>\n",
       "      <td>Gunarathna P.R.B.M</td>\n",
       "      <td>20.0</td>\n",
       "    </tr>\n",
       "    <tr>\n",
       "      <th>3</th>\n",
       "      <td>22/12/2022 23:16:19</td>\n",
       "      <td>Dinusha</td>\n",
       "      <td>90.0</td>\n",
       "    </tr>\n",
       "    <tr>\n",
       "      <th>4</th>\n",
       "      <td>22/12/2022 23:38:22</td>\n",
       "      <td>shanika</td>\n",
       "      <td>30.0</td>\n",
       "    </tr>\n",
       "  </tbody>\n",
       "</table>\n",
       "</div>"
      ],
      "text/plain": [
       "                  time                name  engagement_level\n",
       "0  22/12/2022 16:46:16   W.A.Dulmi Niwanka              20.0\n",
       "1  22/12/2022 17:41:30     Herath H.R.P.C.              10.0\n",
       "2  22/12/2022 18:28:47  Gunarathna P.R.B.M              20.0\n",
       "3  22/12/2022 23:16:19             Dinusha              90.0\n",
       "4  22/12/2022 23:38:22             shanika              30.0"
      ]
     },
     "execution_count": 9,
     "metadata": {},
     "output_type": "execute_result"
    }
   ],
   "source": [
    "# remove percentage sign of engagement_level feature and convert to float\n",
    "df['engagement_level'] = df['engagement_level'].str.replace('%', '').astype(float)\n",
    "df.head()"
   ]
  },
  {
   "cell_type": "code",
   "execution_count": 20,
   "metadata": {},
   "outputs": [],
   "source": [
    "# find record by name\n",
    "student_names = ['Bandara K.D.H.S.', 'Sasika Sankalana', 'Sandali Wijerathna']\n",
    "\n",
    "# create a new dataframe\n",
    "df_new = pd.DataFrame(columns=['time', 'name', 'engagement_level'])\n",
    "\n",
    "# iterate through the list of names\n",
    "for name in student_names:\n",
    "    # find record by name contains in in column name\n",
    "    df_by_name = df[df['name'].str.contains(name)]\n",
    "    # append to new dataframe\n",
    "    df_new = pd.concat([df_new, df_by_name], ignore_index=True)\n",
    "\n",
    "df_new.head()\n",
    "\n",
    "# save the new dataframe to csv file\n",
    "df_new.to_csv('data/student_engagement_dataset_labeled.csv', index=False)"
   ]
  },
  {
   "cell_type": "code",
   "execution_count": 21,
   "metadata": {},
   "outputs": [
    {
     "data": {
      "text/html": [
       "<div>\n",
       "<style scoped>\n",
       "    .dataframe tbody tr th:only-of-type {\n",
       "        vertical-align: middle;\n",
       "    }\n",
       "\n",
       "    .dataframe tbody tr th {\n",
       "        vertical-align: top;\n",
       "    }\n",
       "\n",
       "    .dataframe thead th {\n",
       "        text-align: right;\n",
       "    }\n",
       "</style>\n",
       "<table border=\"1\" class=\"dataframe\">\n",
       "  <thead>\n",
       "    <tr style=\"text-align: right;\">\n",
       "      <th></th>\n",
       "      <th>time</th>\n",
       "      <th>name</th>\n",
       "      <th>engagement_level</th>\n",
       "    </tr>\n",
       "  </thead>\n",
       "  <tbody>\n",
       "    <tr>\n",
       "      <th>0</th>\n",
       "      <td>25/12/2022 15:42:13</td>\n",
       "      <td>Bandara K.D.H.S.</td>\n",
       "      <td>5.0</td>\n",
       "    </tr>\n",
       "    <tr>\n",
       "      <th>1</th>\n",
       "      <td>14/03/2023 15:08:48</td>\n",
       "      <td>Sasika Sankalana</td>\n",
       "      <td>75.0</td>\n",
       "    </tr>\n",
       "    <tr>\n",
       "      <th>2</th>\n",
       "      <td>14/03/2023 17:19:44</td>\n",
       "      <td>Sandali Wijerathna</td>\n",
       "      <td>5.0</td>\n",
       "    </tr>\n",
       "  </tbody>\n",
       "</table>\n",
       "</div>"
      ],
      "text/plain": [
       "                  time                name  engagement_level\n",
       "0  25/12/2022 15:42:13    Bandara K.D.H.S.               5.0\n",
       "1  14/03/2023 15:08:48    Sasika Sankalana              75.0\n",
       "2  14/03/2023 17:19:44  Sandali Wijerathna               5.0"
      ]
     },
     "execution_count": 21,
     "metadata": {},
     "output_type": "execute_result"
    }
   ],
   "source": [
    "df_labeled = pd.read_csv('data/student_engagement_dataset_labeled.csv')\n",
    "df_labeled.head()"
   ]
  },
  {
   "cell_type": "code",
   "execution_count": 24,
   "metadata": {},
   "outputs": [
    {
     "name": "stdout",
     "output_type": "stream",
     "text": [
      "Loaded model from disk\n"
     ]
    }
   ],
   "source": [
    "# open video files by name\n",
    "import cv2\n",
    "import os\n",
    "from face_emotion import  *"
   ]
  },
  {
   "cell_type": "code",
   "execution_count": null,
   "metadata": {},
   "outputs": [],
   "source": [
    "# identify emotion by student name\n",
    "for name in student_names:\n",
    "    # find record by name contains in in column name\n",
    "    df_by_name = df_labeled[df_labeled['name'].str.contains(name)]\n",
    "    # iterate through the dataframe\n",
    "    for index, row in df_by_name.iterrows():\n",
    "        # get the video file name\n",
    "        video_file_name = row['name'] + '.mp4'\n",
    "        # get the video file path\n",
    "        emotion_percentage_list = get_emotion_percentage(video_file_name)\n",
    "        # open the video file\n",
    "        cap = cv2.VideoCapture(video_file_path)\n",
    "        # set the frame position\n",
    "        cap.set(cv2.CAP_PROP_POS_MSEC, time)\n",
    "        # read the frame\n",
    "        success, image = cap.read()\n",
    "        # save the frame\n",
    "        if success:\n",
    "            cv2.imwrite('data/frames/' + str(index) + '_' + str(engagement_level) + '.jpg', image)\n",
    "        # release the video\n",
    "        cap.release()\n",
    "        # close all windows\n",
    "        cv2.destroyAllWindows()"
   ]
  }
 ],
 "metadata": {
  "kernelspec": {
   "display_name": "fyp_face_emotion",
   "language": "python",
   "name": "python3"
  },
  "language_info": {
   "codemirror_mode": {
    "name": "ipython",
    "version": 3
   },
   "file_extension": ".py",
   "mimetype": "text/x-python",
   "name": "python",
   "nbconvert_exporter": "python",
   "pygments_lexer": "ipython3",
   "version": "3.8.16"
  },
  "orig_nbformat": 4
 },
 "nbformat": 4,
 "nbformat_minor": 2
}
